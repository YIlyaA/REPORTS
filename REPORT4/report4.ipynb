{
 "cells": [
  {
   "cell_type": "markdown",
   "id": "4a42ebc4",
   "metadata": {},
   "source": [
    "# SPRAWOZDANIE\n",
    "\n",
    "*system operacyjny: Linux Ubuntu 22.04.4 LTS*  \n",
    "*Intel® Core™ i5-14600KF × 20*   \n",
    "*RAM 32 Gb*\n",
    "\n",
    "Illia Yanukovich  \n",
    "Olgierd Ludwiczak"
   ]
  },
  {
   "cell_type": "markdown",
   "id": "c7ad42a7-416c-42f0-b282-5b4438d2989c",
   "metadata": {},
   "source": [
    "## KONFIGURACJA"
   ]
  },
  {
   "cell_type": "code",
   "execution_count": 1,
   "id": "1e042b9e",
   "metadata": {
    "ExecuteTime": {
     "end_time": "2024-04-26T13:52:14.385214Z",
     "start_time": "2024-04-26T13:52:14.143067Z"
    },
    "is_executing": true
   },
   "outputs": [],
   "source": [
    "import os\n",
    "import main\n",
    "from matplotlib import pyplot as plt\n",
    "import numpy as np\n",
    "\n",
    "TEST_SIZES = [10, 20, 30, 40, 50, 60, 70, 80, 90, 100]\n",
    "SATURATION = [10, 20, 30, 40, 50, 60, 70, 80, 90]\n",
    "SOURCES = 'sources'\n",
    "BINS = 'bins'\n",
    "TESTS = 'tests'\n",
    "RESULTS = 'results'\n",
    "VERBOSE = False"
   ]
  },
  {
   "cell_type": "markdown",
   "id": "582174ed-0aea-4b16-a605-745bf1d1dcf7",
   "metadata": {},
   "source": [
    "## TWORZENIE TESTÓW"
   ]
  },
  {
   "cell_type": "code",
   "execution_count": 2,
   "id": "476813b8",
   "metadata": {
    "scrolled": true
   },
   "outputs": [],
   "source": [
    "main.create_tests(TESTS, TEST_SIZES, SATURATION)"
   ]
  },
  {
   "cell_type": "markdown",
   "id": "65af92f6-042e-48eb-95d1-7cb6b02ced40",
   "metadata": {},
   "source": [
    "## KOMPILACJA"
   ]
  },
  {
   "cell_type": "code",
   "execution_count": 3,
   "id": "ac6d0e76",
   "metadata": {
    "scrolled": true
   },
   "outputs": [
    {
     "name": "stdout",
     "output_type": "stream",
     "text": [
      "Executing: g++ sources/Robertsa-Floresa-directed.cpp -o bins/Robertsa-Floresa-directed\n",
      "\n",
      "\n",
      "Executing: g++ sources/Fleury-undirected.cpp -o bins/Fleury-undirected\n",
      "\n",
      "\n",
      "Executing: g++ sources/Fleury-directed.cpp -o bins/Fleury-directed\n",
      "\n",
      "\n",
      "Executing: g++ sources/Robertsa-Floresa-undirected.cpp -o bins/Robertsa-Floresa-undirected\n",
      "\n",
      "\n"
     ]
    }
   ],
   "source": [
    "main.compile_sources(SOURCES, BINS, v=True)"
   ]
  },
  {
   "cell_type": "markdown",
   "id": "baed1601-73df-436c-bcd0-11ecd869b002",
   "metadata": {},
   "source": [
    "## URUCHOMIENIE"
   ]
  },
  {
   "cell_type": "code",
   "execution_count": null,
   "id": "3f2c2354",
   "metadata": {},
   "outputs": [],
   "source": [
    "main.run_algo(BINS, TESTS, RESULTS, TEST_SIZES, SATURATION, v=VERBOSE)"
   ]
  },
  {
   "cell_type": "markdown",
   "id": "e72b7acd-b185-43de-b45e-f7d520fcf4b7",
   "metadata": {},
   "source": [
    "## WYKRESY"
   ]
  },
  {
   "cell_type": "code",
   "execution_count": null,
   "id": "85324efa-66d3-4ebc-af3f-0da99fdef68f",
   "metadata": {
    "ExecuteTime": {
     "end_time": "2024-04-26T13:52:16.959309Z",
     "start_time": "2024-04-26T13:52:16.460935Z"
    },
    "scrolled": true
   },
   "outputs": [],
   "source": [
    "res_DA, res_UDA, res_DC, res_UDC = main.read_results(RESULTS)\n",
    "\n",
    "main.plot_graf3D(res_DC, \"Directed cyclic\")\n",
    "main.plot_graf3D(res_UDC, \"Undirected cyclic\")\n",
    "main.plot_graf3D(res_DA, \"Directed acyclic\")\n",
    "main.plot_graf3D(res_UDA, \"Undirected acyclic\")"
   ]
  }
 ],
 "metadata": {
  "kernelspec": {
   "display_name": "Python 3 (ipykernel)",
   "language": "python",
   "name": "python3"
  },
  "language_info": {
   "codemirror_mode": {
    "name": "ipython",
    "version": 3
   },
   "file_extension": ".py",
   "mimetype": "text/x-python",
   "name": "python",
   "nbconvert_exporter": "python",
   "pygments_lexer": "ipython3",
   "version": "3.10.12"
  }
 },
 "nbformat": 4,
 "nbformat_minor": 5
}
